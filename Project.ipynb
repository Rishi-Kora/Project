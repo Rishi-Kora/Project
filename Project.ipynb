{
  "nbformat": 4,
  "nbformat_minor": 0,
  "metadata": {
    "colab": {
      "provenance": [],
      "collapsed_sections": [],
      "authorship_tag": "ABX9TyMYVmR6xjZ149gHLCx5l+Rf"
    },
    "kernelspec": {
      "name": "python3",
      "display_name": "Python 3"
    },
    "language_info": {
      "name": "python"
    }
  },
  "cells": [
    {
      "cell_type": "code",
      "execution_count": null,
      "metadata": {
        "id": "vVdn3GFqX1MH"
      },
      "outputs": [],
      "source": [
        "import seaborn as sns\n",
        "import pandas as pd\n",
        "import matplotlib.pyplot as plt\n",
        "import numpy as np"
      ]
    },
    {
      "cell_type": "code",
      "execution_count": null,
      "metadata": {
        "id": "uAc7DkwDX6RH"
      },
      "outputs": [],
      "source": [
        "import sklearn.datasets\n",
        "from sklearn.preprocessing import StandardScaler\n",
        "from sklearn.model_selection import train_test_split"
      ]
    },
    {
      "cell_type": "code",
      "source": [
        "path='/content/Data.csv'\n",
        "df=pd.read_csv('Data.csv')"
      ],
      "metadata": {
        "id": "dhNTwN9NYPnR"
      },
      "execution_count": null,
      "outputs": []
    },
    {
      "cell_type": "code",
      "source": [
        "x=df.drop(columns='ImageId',axis=1)\n",
        "y=df.ImageId"
      ],
      "metadata": {
        "id": "aU0aYYPHY9CM"
      },
      "execution_count": null,
      "outputs": []
    },
    {
      "cell_type": "code",
      "source": [
        "print(x)"
      ],
      "metadata": {
        "colab": {
          "base_uri": "https://localhost:8080/"
        },
        "id": "arojhgf6ZNg7",
        "outputId": "26f178f3-823e-4d35-c381-c99f6c8dbe2c"
      },
      "execution_count": null,
      "outputs": [
        {
          "output_type": "stream",
          "name": "stdout",
          "text": [
            "       Label\n",
            "0          2\n",
            "1          0\n",
            "2          9\n",
            "3          9\n",
            "4          3\n",
            "...      ...\n",
            "27995      9\n",
            "27996      7\n",
            "27997      3\n",
            "27998      9\n",
            "27999      2\n",
            "\n",
            "[28000 rows x 1 columns]\n"
          ]
        }
      ]
    },
    {
      "cell_type": "code",
      "source": [
        "print(y)"
      ],
      "metadata": {
        "colab": {
          "base_uri": "https://localhost:8080/"
        },
        "id": "2f7lLljPZQOU",
        "outputId": "91bdb65b-e8bb-41ff-bd1c-77152637b552"
      },
      "execution_count": null,
      "outputs": [
        {
          "output_type": "stream",
          "name": "stdout",
          "text": [
            "0            1\n",
            "1            2\n",
            "2            3\n",
            "3            4\n",
            "4            5\n",
            "         ...  \n",
            "27995    27996\n",
            "27996    27997\n",
            "27997    27998\n",
            "27998    27999\n",
            "27999    28000\n",
            "Name: ImageId, Length: 28000, dtype: int64\n"
          ]
        }
      ]
    },
    {
      "cell_type": "code",
      "source": [
        "x_train,x_test,y_train,y_test=train_test_split(x,y,test_size=0.2,random_state=3)"
      ],
      "metadata": {
        "id": "ffntE401ZTzI"
      },
      "execution_count": null,
      "outputs": []
    },
    {
      "cell_type": "code",
      "source": [
        "print(x.shape,x_train.shape,x_test.shape)"
      ],
      "metadata": {
        "colab": {
          "base_uri": "https://localhost:8080/"
        },
        "id": "u58j3GUoZa34",
        "outputId": "7ad38d33-05c4-4b03-cdc0-b31947cfcda6"
      },
      "execution_count": null,
      "outputs": [
        {
          "output_type": "stream",
          "name": "stdout",
          "text": [
            "(28000, 1) (22400, 1) (5600, 1)\n"
          ]
        }
      ]
    },
    {
      "cell_type": "code",
      "source": [
        "print(df.std())"
      ],
      "metadata": {
        "colab": {
          "base_uri": "https://localhost:8080/"
        },
        "id": "u5QR7EcOZcwv",
        "outputId": "9dd086e8-57de-4add-cf5c-87e6d0649d81"
      },
      "execution_count": null,
      "outputs": [
        {
          "output_type": "stream",
          "name": "stdout",
          "text": [
            "ImageId    8083.048105\n",
            "Label         2.897692\n",
            "dtype: float64\n"
          ]
        }
      ]
    },
    {
      "cell_type": "code",
      "source": [
        "scaler=StandardScaler()"
      ],
      "metadata": {
        "id": "y5d48s-DZh7Y"
      },
      "execution_count": null,
      "outputs": []
    },
    {
      "cell_type": "code",
      "source": [
        "scaler.fit(x_train)"
      ],
      "metadata": {
        "colab": {
          "base_uri": "https://localhost:8080/"
        },
        "id": "yhMQb9onZl0R",
        "outputId": "87077d90-1ac3-4cf3-8252-f8e3ab879fef"
      },
      "execution_count": null,
      "outputs": [
        {
          "output_type": "execute_result",
          "data": {
            "text/plain": [
              "StandardScaler()"
            ]
          },
          "metadata": {},
          "execution_count": 11
        }
      ]
    },
    {
      "cell_type": "code",
      "source": [
        "x_train_standardized=scaler.transform(x_train)"
      ],
      "metadata": {
        "id": "dKp590YfZpSi"
      },
      "execution_count": null,
      "outputs": []
    },
    {
      "cell_type": "code",
      "source": [
        "print(x_train_standardized)"
      ],
      "metadata": {
        "colab": {
          "base_uri": "https://localhost:8080/"
        },
        "id": "qDbQ4n-uZsPM",
        "outputId": "e57534c5-5453-43ab-8621-9a233494812f"
      },
      "execution_count": null,
      "outputs": [
        {
          "output_type": "stream",
          "name": "stdout",
          "text": [
            "[[-0.49723229]\n",
            " [-0.49723229]\n",
            " [-0.15286092]\n",
            " ...\n",
            " [ 0.53588183]\n",
            " [-0.49723229]\n",
            " [ 0.8802532 ]]\n"
          ]
        }
      ]
    },
    {
      "cell_type": "code",
      "source": [
        "x_test_standardized=scaler.transform(x_test)"
      ],
      "metadata": {
        "id": "xATxDERrZ0PV"
      },
      "execution_count": null,
      "outputs": []
    },
    {
      "cell_type": "code",
      "source": [
        "print(x_train_standardized.std())"
      ],
      "metadata": {
        "colab": {
          "base_uri": "https://localhost:8080/"
        },
        "id": "ohiJEZ7SZ26H",
        "outputId": "e2697487-0c8e-44ea-b6d6-401376cc251a"
      },
      "execution_count": null,
      "outputs": [
        {
          "output_type": "stream",
          "name": "stdout",
          "text": [
            "1.0\n"
          ]
        }
      ]
    },
    {
      "cell_type": "code",
      "source": [
        "print(x_test_standardized.std())"
      ],
      "metadata": {
        "colab": {
          "base_uri": "https://localhost:8080/"
        },
        "id": "qMw7YjAmZ5kk",
        "outputId": "86343828-2ac4-4faf-94ae-23efa4fe5bc2"
      },
      "execution_count": null,
      "outputs": [
        {
          "output_type": "stream",
          "name": "stdout",
          "text": [
            "0.9892698498022738\n"
          ]
        }
      ]
    },
    {
      "cell_type": "code",
      "source": [
        "from sklearn import svm\n",
        "from sklearn.metrics import accuracy_score"
      ],
      "metadata": {
        "id": "94X0OtOiZ-KK"
      },
      "execution_count": null,
      "outputs": []
    },
    {
      "cell_type": "code",
      "source": [
        "classifier=svm.SVC(kernel='linear')"
      ],
      "metadata": {
        "id": "njuhnJEtaBGM"
      },
      "execution_count": null,
      "outputs": []
    },
    {
      "cell_type": "code",
      "source": [
        "classifier.fit(x_train,y_train)"
      ],
      "metadata": {
        "id": "uqXkBYnUaDrJ"
      },
      "execution_count": null,
      "outputs": []
    },
    {
      "cell_type": "code",
      "source": [
        "x_train_prediction=classifier.predict(x_train)\n",
        "training_data_accuracy=accuracy_score(x_train_prediction,y_train)"
      ],
      "metadata": {
        "id": "RW6b6KNfaYqe"
      },
      "execution_count": null,
      "outputs": []
    },
    {
      "cell_type": "code",
      "source": [
        "print(\"Accuracy score of training data:\",training_data_accuracy)"
      ],
      "metadata": {
        "id": "fcY2q1oSaj0s"
      },
      "execution_count": null,
      "outputs": []
    },
    {
      "cell_type": "code",
      "source": [
        "x_test_prediction=classifier.predict(x_test)\n",
        "test_data_accuracy=accuracy_score(x_test_prediction,y_test)"
      ],
      "metadata": {
        "id": "pSPLLKDOaniH"
      },
      "execution_count": null,
      "outputs": []
    },
    {
      "cell_type": "code",
      "source": [
        "print(\"Accuracy score of test data:\",test_data_accuracy)"
      ],
      "metadata": {
        "id": "jS5gSMvVaq-x"
      },
      "execution_count": null,
      "outputs": []
    },
    {
      "cell_type": "code",
      "source": [
        "input_data=('5.1','3.5','1.4','0.2')"
      ],
      "metadata": {
        "id": "2nxyO1j6ausm"
      },
      "execution_count": null,
      "outputs": []
    },
    {
      "cell_type": "code",
      "source": [
        "input_data_as_numpy_array=np.asarray(input_data)"
      ],
      "metadata": {
        "id": "cSDT5rpuaxy3"
      },
      "execution_count": null,
      "outputs": []
    },
    {
      "cell_type": "code",
      "source": [
        "input_data_reshaped=input_data_as_numpy_array.reshape(1,-1)"
      ],
      "metadata": {
        "id": "ODLWMOdAayhh"
      },
      "execution_count": null,
      "outputs": []
    },
    {
      "cell_type": "code",
      "source": [
        "import warnings\n",
        "warnings.filterwarnings('ignore')"
      ],
      "metadata": {
        "id": "BPBQMRGxa2so"
      },
      "execution_count": null,
      "outputs": []
    },
    {
      "cell_type": "code",
      "source": [
        "std_data=scaler.transform(input_data_reshaped)\n",
        "print(std_data)"
      ],
      "metadata": {
        "id": "MPdXq4RKa5tn"
      },
      "execution_count": null,
      "outputs": []
    },
    {
      "cell_type": "code",
      "source": [
        "prediction=classifier.predict(std_data)\n",
        "print(prediction)"
      ],
      "metadata": {
        "id": "qBqELg7Ka8qK"
      },
      "execution_count": null,
      "outputs": []
    }
  ]
}